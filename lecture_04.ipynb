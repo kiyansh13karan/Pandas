{
 "cells": [
  {
   "cell_type": "code",
   "execution_count": 11,
   "id": "db1c8634",
   "metadata": {},
   "outputs": [],
   "source": [
    "import numpy as np \n",
    "import pandas as pd "
   ]
  },
  {
   "cell_type": "code",
   "execution_count": 12,
   "id": "c399cda2",
   "metadata": {},
   "outputs": [
    {
     "data": {
      "text/plain": [
       "'\\ncreate a dataframe which contains only integers with 3 rows and 2 columns\\nrun following dataframe methods on them:\\ndf.describe()\\ndf.mean()\\ndf.corr()\\ndf.count()\\ndf.max()\\ndf.min()\\ndf.median()\\ndf.std()\\n'"
      ]
     },
     "execution_count": 12,
     "metadata": {},
     "output_type": "execute_result"
    }
   ],
   "source": [
    "'''\n",
    "create a dataframe which contains only integers with 3 rows and 2 columns\n",
    "run following dataframe methods on them:\n",
    "df.describe()\n",
    "df.mean()\n",
    "df.corr()\n",
    "df.count()\n",
    "df.max()\n",
    "df.min()\n",
    "df.median()\n",
    "df.std()\n",
    "'''"
   ]
  },
  {
   "cell_type": "markdown",
   "id": "30fb3faa",
   "metadata": {},
   "source": [
    "### Creating Dataframe"
   ]
  },
  {
   "cell_type": "code",
   "execution_count": 13,
   "id": "04a9642c",
   "metadata": {},
   "outputs": [],
   "source": [
    "df = pd.DataFrame({\n",
    "    \"A\": [10, 20, 30],\n",
    "    \"B\": [5, 15, 25]\n",
    "})"
   ]
  },
  {
   "cell_type": "code",
   "execution_count": 14,
   "id": "e5e3661c",
   "metadata": {},
   "outputs": [
    {
     "data": {
      "text/html": [
       "<div>\n",
       "<style scoped>\n",
       "    .dataframe tbody tr th:only-of-type {\n",
       "        vertical-align: middle;\n",
       "    }\n",
       "\n",
       "    .dataframe tbody tr th {\n",
       "        vertical-align: top;\n",
       "    }\n",
       "\n",
       "    .dataframe thead th {\n",
       "        text-align: right;\n",
       "    }\n",
       "</style>\n",
       "<table border=\"1\" class=\"dataframe\">\n",
       "  <thead>\n",
       "    <tr style=\"text-align: right;\">\n",
       "      <th></th>\n",
       "      <th>A</th>\n",
       "      <th>B</th>\n",
       "    </tr>\n",
       "  </thead>\n",
       "  <tbody>\n",
       "    <tr>\n",
       "      <th>0</th>\n",
       "      <td>10</td>\n",
       "      <td>5</td>\n",
       "    </tr>\n",
       "    <tr>\n",
       "      <th>1</th>\n",
       "      <td>20</td>\n",
       "      <td>15</td>\n",
       "    </tr>\n",
       "    <tr>\n",
       "      <th>2</th>\n",
       "      <td>30</td>\n",
       "      <td>25</td>\n",
       "    </tr>\n",
       "  </tbody>\n",
       "</table>\n",
       "</div>"
      ],
      "text/plain": [
       "    A   B\n",
       "0  10   5\n",
       "1  20  15\n",
       "2  30  25"
      ]
     },
     "execution_count": 14,
     "metadata": {},
     "output_type": "execute_result"
    }
   ],
   "source": [
    "df"
   ]
  },
  {
   "cell_type": "code",
   "execution_count": 15,
   "id": "54097f7a",
   "metadata": {},
   "outputs": [
    {
     "name": "stdout",
     "output_type": "stream",
     "text": [
      "Describe:\n",
      "           A     B\n",
      "count   3.0   3.0\n",
      "mean   20.0  15.0\n",
      "std    10.0  10.0\n",
      "min    10.0   5.0\n",
      "25%    15.0  10.0\n",
      "50%    20.0  15.0\n",
      "75%    25.0  20.0\n",
      "max    30.0  25.0\n"
     ]
    }
   ],
   "source": [
    "# Gives a summary of numerical columns.\n",
    "print(\"Describe:\\n\", df.describe())"
   ]
  },
  {
   "cell_type": "code",
   "execution_count": 16,
   "id": "044b5207",
   "metadata": {},
   "outputs": [
    {
     "name": "stdout",
     "output_type": "stream",
     "text": [
      "\n",
      "Mean:\n",
      " A    20.0\n",
      "B    15.0\n",
      "dtype: float64\n"
     ]
    }
   ],
   "source": [
    "# Calculates the mean (average) of each column.\n",
    "print(\"\\nMean:\\n\", df.mean())"
   ]
  },
  {
   "cell_type": "code",
   "execution_count": 17,
   "id": "d30d6df5",
   "metadata": {},
   "outputs": [
    {
     "name": "stdout",
     "output_type": "stream",
     "text": [
      "\n",
      "Correlation:\n",
      "      A    B\n",
      "A  1.0  1.0\n",
      "B  1.0  1.0\n"
     ]
    }
   ],
   "source": [
    "# Calculates the correlation coefficient between columns.\n",
    "print(\"\\nCorrelation:\\n\", df.corr())"
   ]
  },
  {
   "cell_type": "code",
   "execution_count": 18,
   "id": "38a78b22",
   "metadata": {},
   "outputs": [
    {
     "name": "stdout",
     "output_type": "stream",
     "text": [
      "\n",
      "Count:\n",
      " A    3\n",
      "B    3\n",
      "dtype: int64\n"
     ]
    }
   ],
   "source": [
    "# Counts non-null entries in each column.\n",
    "print(\"\\nCount:\\n\", df.count())"
   ]
  },
  {
   "cell_type": "code",
   "execution_count": 19,
   "id": "74620ea6",
   "metadata": {},
   "outputs": [
    {
     "name": "stdout",
     "output_type": "stream",
     "text": [
      "\n",
      "Max:\n",
      " A    30\n",
      "B    25\n",
      "dtype: int64\n"
     ]
    }
   ],
   "source": [
    "# Returns the maximum value from each column.\n",
    "print(\"\\nMax:\\n\", df.max())"
   ]
  },
  {
   "cell_type": "code",
   "execution_count": 20,
   "id": "91546744",
   "metadata": {},
   "outputs": [
    {
     "name": "stdout",
     "output_type": "stream",
     "text": [
      "\n",
      "Min:\n",
      " A    10\n",
      "B     5\n",
      "dtype: int64\n"
     ]
    }
   ],
   "source": [
    "# Returns the minimum value from each column.\n",
    "print(\"\\nMin:\\n\", df.min())"
   ]
  },
  {
   "cell_type": "code",
   "execution_count": 21,
   "id": "1827cc07",
   "metadata": {},
   "outputs": [
    {
     "name": "stdout",
     "output_type": "stream",
     "text": [
      "\n",
      "Median:\n",
      " A    20.0\n",
      "B    15.0\n",
      "dtype: float64\n"
     ]
    }
   ],
   "source": [
    "# Returns the median (middle value) of each column.\n",
    "# If even number of values → average of the two middle values.\n",
    "print(\"\\nMedian:\\n\", df.median())"
   ]
  },
  {
   "cell_type": "code",
   "execution_count": 22,
   "id": "b2b63bd9",
   "metadata": {},
   "outputs": [
    {
     "name": "stdout",
     "output_type": "stream",
     "text": [
      "\n",
      "Standard Deviation:\n",
      " A    10.0\n",
      "B    10.0\n",
      "dtype: float64\n"
     ]
    }
   ],
   "source": [
    "# Returns the standard deviation of each column.\n",
    "# Measures how spread out the data is around the mean.\n",
    "print(\"\\nStandard Deviation:\\n\", df.std())"
   ]
  }
 ],
 "metadata": {
  "kernelspec": {
   "display_name": "Python 3",
   "language": "python",
   "name": "python3"
  },
  "language_info": {
   "codemirror_mode": {
    "name": "ipython",
    "version": 3
   },
   "file_extension": ".py",
   "mimetype": "text/x-python",
   "name": "python",
   "nbconvert_exporter": "python",
   "pygments_lexer": "ipython3",
   "version": "3.12.9"
  }
 },
 "nbformat": 4,
 "nbformat_minor": 5
}
