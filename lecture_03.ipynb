{
 "cells": [
  {
   "cell_type": "markdown",
   "id": "9237822c",
   "metadata": {},
   "source": [
    "### New Dataframe "
   ]
  },
  {
   "cell_type": "code",
   "execution_count": null,
   "id": "3cbfe03b",
   "metadata": {},
   "outputs": [],
   "source": [
    "import numpy as np \n",
    "import pandas as pd"
   ]
  },
  {
   "cell_type": "code",
   "execution_count": null,
   "id": "b05885c7",
   "metadata": {},
   "outputs": [],
   "source": [
    "df = pd.DataFrame({\n",
    "    \"Event\": [\"Start\", \"Check\", \"Finish\", \"Review\"],\n",
    "    \"Date\": [pd.Timestamp(\"2025-08-01\"),\n",
    "             pd.NaT,  # Missing datetime\n",
    "             pd.Timestamp(\"2025-08-05\"),\n",
    "             pd.NaT]   # Missing datetime\n",
    "})"
   ]
  }
 ],
 "metadata": {
  "kernelspec": {
   "display_name": "Python 3",
   "language": "python",
   "name": "python3"
  },
  "language_info": {
   "name": "python",
   "version": "3.12.9"
  }
 },
 "nbformat": 4,
 "nbformat_minor": 5
}
